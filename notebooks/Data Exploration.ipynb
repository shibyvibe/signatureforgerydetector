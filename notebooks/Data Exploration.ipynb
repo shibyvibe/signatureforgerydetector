{
 "cells": [
  {
   "cell_type": "code",
   "execution_count": null,
   "metadata": {},
   "outputs": [],
   "source": [
    "import os\n",
    "import matplotlib.pyplot as plt\n",
    "import cv2\n",
    "import numpy as np\n",
    "import pandas as pd\n",
    "import math"
   ]
  },
  {
   "cell_type": "code",
   "execution_count": null,
   "metadata": {},
   "outputs": [],
   "source": [
    "def previewImg(basePath, imageFilesDf, cols):\n",
    "    df = imageFilesDf.groupby(\"personId\").min()\n",
    "    df.head()\n",
    "\n",
    "    rows = math.ceil(len(df)/cols);\n",
    "    f, axs = plt.subplots(rows, cols, sharex=True, sharey=True)\n",
    "    f.set_figheight(30)\n",
    "    f.set_figwidth(80)\n",
    "\n",
    "    row=0\n",
    "    col=0\n",
    "\n",
    "    for imgFileIdx in df.index:\n",
    "        img = plt.imread(basePath + \"/\" + df.loc[imgFileIdx][\"relPath\"] + \"/\" + df.loc[imgFileIdx][\"fileName\"])\n",
    "        img = cv2.resize(img, (1280,1024), interpolation=cv2.INTER_CUBIC)\n",
    "        axs[row, col].imshow(img, aspect='auto',)\n",
    "        axs[row, col].set_title(imgFileIdx, fontdict={'fontsize':30})\n",
    "        col=col+1\n",
    "        if col >= cols:\n",
    "            col=0;\n",
    "            row=row+1\n",
    "\n",
    "    plt.show()"
   ]
  },
  {
   "cell_type": "code",
   "execution_count": null,
   "metadata": {},
   "outputs": [],
   "source": [
    "def getFiles(basePath):\n",
    "    dirs = os.listdir(basePath)\n",
    "    genuine_dir=[d for d in dirs if \"forg\" not in d]\n",
    "    forged_dir=[d for d in dirs if \"forg\" in d]\n",
    "\n",
    "    df_g = pd.DataFrame({\"fileName\": [os.listdir(basePath + \"/\" + d) for d in genuine_dir], \"personId\": genuine_dir, \"relPath\": genuine_dir})\n",
    "    df_g = df_g.explode(\"fileName\")\n",
    "    df_g.reset_index(drop=True, inplace=True)\n",
    "        \n",
    "    df_f = pd.DataFrame({\"fileName\": [os.listdir(basePath + \"/\" + d) for d in forged_dir], \"personId\": forged_dir, \"relPath\": forged_dir})\n",
    "    df_f[\"personId\"] = df_f[\"personId\"].apply(lambda x: x.replace(\"_forg\", \"\"))\n",
    "    df_f = df_f.explode(\"fileName\")\n",
    "    df_f.reset_index(drop=True, inplace=True)\n",
    "    \n",
    "    return (df_g, df_f)"
   ]
  },
  {
   "cell_type": "code",
   "execution_count": null,
   "metadata": {},
   "outputs": [],
   "source": [
    "data2_path = \"/notebooks/capstone/dataset/dataset2/sign_data/train/\"\n",
    "df_g, df_f = getFiles(data2_path)\n",
    "print(df_g.shape)\n",
    "print(df_g.head())\n",
    "print(df_f.shape)\n",
    "print(df_f.head())"
   ]
  },
  {
   "cell_type": "code",
   "execution_count": null,
   "metadata": {},
   "outputs": [],
   "source": [
    "# Genuine images - checking they are unique for each person\n",
    "previewImg(data2_path, df_g,10)"
   ]
  },
  {
   "cell_type": "code",
   "execution_count": null,
   "metadata": {},
   "outputs": [],
   "source": [
    "# forged images - checking alignent with genuine images\n",
    "previewImg(data2_path, df_f,10)"
   ]
  },
  {
   "cell_type": "markdown",
   "metadata": {},
   "source": [
    "<b>Testing data</b>"
   ]
  },
  {
   "cell_type": "code",
   "execution_count": null,
   "metadata": {},
   "outputs": [],
   "source": [
    "data2_path_test = \"/notebooks/capstone/dataset/dataset2/sign_data/test/\"\n",
    "df_g_test, df_f_test = getFiles(data2_path_test)\n",
    "print(df_g_test.shape)\n",
    "print(df_g_test.head())\n",
    "print(df_f_test.shape)  #25% of train data which is good\n",
    "print(df_f_test.head())"
   ]
  },
  {
   "cell_type": "code",
   "execution_count": null,
   "metadata": {},
   "outputs": [],
   "source": [
    "# Genuine images - checking they are unique for each person\n",
    "previewImg(data2_path_test, df_g_test,10)"
   ]
  },
  {
   "cell_type": "code",
   "execution_count": null,
   "metadata": {},
   "outputs": [],
   "source": [
    "# Genuine images - checking they are unique for each person\n",
    "# forged images - checking alignent with genuine images\n",
    "previewImg(data2_path_test, df_f_test,10)"
   ]
  },
  {
   "cell_type": "markdown",
   "metadata": {},
   "source": [
    "<b>Prepare metadata csv</b>"
   ]
  },
  {
   "cell_type": "code",
   "execution_count": null,
   "metadata": {},
   "outputs": [],
   "source": [
    "#save to csv file\n",
    "df_g.to_csv(data2_path + \"/\" + \"train.csv\")\n",
    "df_g_test.to_csv(data2_path_test + \"/\" + \"test.csv\")"
   ]
  },
  {
   "cell_type": "code",
   "execution_count": null,
   "metadata": {},
   "outputs": [],
   "source": [
    "df_f.to_csv(data2_path + \"/\" + \"train_f.csv\")\n",
    "df_f_test.to_csv(data2_path_test + \"/\" + \"test_f.csv\")"
   ]
  },
  {
   "cell_type": "code",
   "execution_count": null,
   "metadata": {},
   "outputs": [],
   "source": []
  },
  {
   "cell_type": "code",
   "execution_count": null,
   "metadata": {},
   "outputs": [],
   "source": []
  },
  {
   "cell_type": "code",
   "execution_count": null,
   "metadata": {},
   "outputs": [],
   "source": []
  },
  {
   "cell_type": "code",
   "execution_count": null,
   "metadata": {},
   "outputs": [],
   "source": []
  },
  {
   "cell_type": "code",
   "execution_count": null,
   "metadata": {},
   "outputs": [],
   "source": []
  }
 ],
 "metadata": {
  "kernelspec": {
   "display_name": "Python 3",
   "language": "python",
   "name": "python3"
  },
  "language_info": {
   "codemirror_mode": {
    "name": "ipython",
    "version": 3
   },
   "file_extension": ".py",
   "mimetype": "text/x-python",
   "name": "python",
   "nbconvert_exporter": "python",
   "pygments_lexer": "ipython3",
   "version": "3.6.9"
  }
 },
 "nbformat": 4,
 "nbformat_minor": 4
}
