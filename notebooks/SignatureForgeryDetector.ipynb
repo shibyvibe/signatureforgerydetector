{
 "cells": [
  {
   "cell_type": "code",
   "execution_count": 1,
   "metadata": {},
   "outputs": [],
   "source": [
    "import matplotlib.pyplot as plt\n",
    "import numpy as np\n",
    "import pandas as pd\n",
    "import os\n",
    "import random\n",
    "import pickle\n",
    "\n",
    "from sklearn.linear_model import LogisticRegression\n",
    "from sklearn import metrics\n",
    "\n",
    "import tensorflow as tf\n",
    "from pathlib import Path\n",
    "from tensorflow.keras import applications  ##Tensor flow version used 2.4.1\n",
    "from tensorflow.keras import layers\n",
    "from tensorflow.keras import losses\n",
    "from tensorflow.keras import optimizers\n",
    "from tensorflow.keras import metrics\n",
    "from tensorflow.keras import Model\n",
    "from tensorflow.keras.applications import resnet"
   ]
  },
  {
   "cell_type": "markdown",
   "metadata": {},
   "source": [
    "<b>Utility functions</b>"
   ]
  },
  {
   "cell_type": "code",
   "execution_count": 2,
   "metadata": {},
   "outputs": [],
   "source": [
    "def preprocess_image(filename):\n",
    "    \"\"\"\n",
    "    Load the specified file as a JPEG image, preprocess it and\n",
    "    resize it to the target shape.\n",
    "    \"\"\"\n",
    "\n",
    "    image_string = tf.io.read_file(filename)\n",
    "    image = tf.image.decode_png(image_string, channels=3)\n",
    "    image = tf.image.convert_image_dtype(image, tf.float32)\n",
    "    image = tf.image.resize(image, imageDimensions[:-1])\n",
    "    return image\n",
    "\n",
    "def preprocess_triplets(anchor, positive, negative):\n",
    "    \"\"\"\n",
    "    Given the filenames corresponding to the three images, load and\n",
    "    preprocess them.\n",
    "    \"\"\"\n",
    "    return (\n",
    "        preprocess_image(anchor),\n",
    "        preprocess_image(positive),\n",
    "        preprocess_image(negative),\n",
    "    )\n",
    "\n",
    "#Compare new signature speciment against all other positives\n",
    "def getPersonEvaluationData(personId, path_SignatureSpecimen):\n",
    "    \n",
    "    person_df = datastore[datastore.personId == personId]\n",
    "    \n",
    "    anchor_imgs = []\n",
    "    postive_imgs = []\n",
    "    toCompare_imgs = []\n",
    "\n",
    "    anchor_img = basePath + person_df.iloc[0].relPath + \"/\"+ person_df.iloc[0].fileName  \n",
    "    for g in person_df[1:].index:\n",
    "        pos_img= basePath+\"/\"+person_df.loc[g].relPath + \"/\"+person_df.loc[g].fileName  \n",
    "        toCompareImg = path_SignatureSpecimen \n",
    "        anchor_imgs.append(anchor_img)\n",
    "        postive_imgs.append(pos_img)\n",
    "        toCompare_imgs.append(toCompareImg)\n",
    "\n",
    "    anchor_dataset = tf.data.Dataset.from_tensor_slices(anchor_imgs)\n",
    "    positive_dataset  = tf.data.Dataset.from_tensor_slices(postive_imgs)\n",
    "    toCompare_imgs_dataset  = tf.data.Dataset.from_tensor_slices(toCompare_imgs)\n",
    "\n",
    "    dataset = tf.data.Dataset.zip((anchor_dataset, positive_dataset, toCompare_imgs_dataset))\n",
    "    dataset = dataset.map(preprocess_triplets)\n",
    "    \n",
    "    return dataset        \n",
    "\n",
    "def getEmbeddings(row):\n",
    "    anchor, positive, toCcompare = row\n",
    "    return (\n",
    "        embedding(resnet.preprocess_input(anchor)),\n",
    "        embedding(resnet.preprocess_input(positive)),\n",
    "        embedding(resnet.preprocess_input(toCcompare)),\n",
    "    )\n",
    "\n",
    "def getEmbeddingDataFrame(dataset):\n",
    "    dataset = dataset.batch(1, drop_remainder=False)\n",
    "    embedding_data = [getEmbeddings(row) for row in iter(dataset)]\n",
    "    embeddings_data_df = pd.DataFrame(columns=[\"anchor_embedding\", \"positive_embedding\",\"toCompare_embedding\"], data=embedding_data)\n",
    "    return embeddings_data_df\n",
    "\n",
    "def compareEmbeds_row_kMeansdistance (anchor_embedding, positive_embedding, toCompare_embedding):\n",
    "        ap_distance = tf.reduce_sum(tf.square(anchor_embedding - positive_embedding), -1)\n",
    "        acompare_distance = tf.reduce_sum(tf.square(anchor_embedding - toCompare_embedding), -1)\n",
    "        return (ap_distance, acompare_distance, (ap_distance-acompare_distance))\n",
    "\n",
    "def compareEmbeds(df):\n",
    "    df2 = df.apply(lambda row: compareEmbeds_row_kMeansdistance(row.anchor_embedding, row.positive_embedding, row.toCompare_embedding), axis=1,  result_type='expand')\n",
    "    df2.columns = [\"Pos\", \"ToCompare\", \"Diff\"]\n",
    "    df[[\"Pos\", \"ToCompare\", \"Diff\"]]=df2[[\"Pos\", \"ToCompare\", \"Diff\"]]\n",
    "    return df\n",
    "\n",
    "def isForgery(personId, path_SignatureSpecimen):\n",
    "    #Prepares the evaluation data frame data for the provided person.\n",
    "    dataset = getPersonEvaluationData(personId, path_SignatureSpecimen)\n",
    "    \n",
    "    #Get embeddings for genuine and tocompare signatures\n",
    "    #Use one of the genuines as anchor and get the distances between the remaining genuines and to compare specimen from anchor\n",
    "    embeddings_df = getEmbeddingDataFrame(dataset)\n",
    "    df_embedding_distances = compareEmbeds(embeddings_df)\n",
    "     \n",
    "    # Add column person Id to dataframe\n",
    "    df_embedding_distances[\"personId\"]  = personId\n",
    "    \n",
    "    y_predict = lr.predict(df_embedding_distances[[\"personId\",\"Pos\", \"ToCompare\"]])\n",
    "    #y_tst_predict = lr.predict(df_test_forgery[[\"personId\", \"Pos\", \"Neg\"]])  #neg = tocompare\n",
    "    \n",
    "    # Result % probability\n",
    "    # return y_predict\n",
    "    return \"Probablity of forgery {}%\".format(sum(y_predict)/len(y_predict)*100)"
   ]
  },
  {
   "cell_type": "markdown",
   "metadata": {},
   "source": [
    "<b> Load data from Datastore </b>"
   ]
  },
  {
   "cell_type": "code",
   "execution_count": 3,
   "metadata": {},
   "outputs": [],
   "source": [
    "basePath = \"/notebooks/capstone/dataset/dataset2/sign_data/test/\"\n",
    "datastore = pd.read_csv(basePath + \"/test_clean.csv\")\n",
    "datastore = datastore[datastore.Genuine == 1]\n",
    "datastore.sort_values(by=\"personId\", inplace=True)\n",
    "\n",
    "imageDimensions = (224,224,3)"
   ]
  },
  {
   "cell_type": "markdown",
   "metadata": {},
   "source": [
    "<b>Set Model load parameters</b>"
   ]
  },
  {
   "cell_type": "code",
   "execution_count": 4,
   "metadata": {},
   "outputs": [
    {
     "name": "stdout",
     "output_type": "stream",
     "text": [
      "WARNING:tensorflow:No training configuration found in save file, so the model was *not* compiled. Compile it manually.\n"
     ]
    }
   ],
   "source": [
    "model_embeddings_file = '/notebooks/capstone/models/embeddings-res32'       ##DNN Embeddings models save location\n",
    "embedding = tf.keras.models.load_model(model_embeddings_file)"
   ]
  },
  {
   "cell_type": "code",
   "execution_count": 5,
   "metadata": {},
   "outputs": [],
   "source": [
    "pFile_lrmodel = \"/notebooks/capstone/train_lr_k.pickle\"  #squared distances\n",
    "with open(pFile_lrmodel, 'rb') as file:\n",
    "    lr = pickle.load(file)"
   ]
  },
  {
   "cell_type": "markdown",
   "metadata": {},
   "source": [
    "<b>Test api</b>"
   ]
  },
  {
   "cell_type": "code",
   "execution_count": 6,
   "metadata": {},
   "outputs": [
    {
     "data": {
      "text/plain": [
       "'Probablity of forgery 0.0%'"
      ]
     },
     "execution_count": 6,
     "metadata": {},
     "output_type": "execute_result"
    }
   ],
   "source": [
    "isForgery(51, '/notebooks/capstone/dataset/dataset2/sign_data/test/051/06_051.png')  #Good"
   ]
  },
  {
   "cell_type": "code",
   "execution_count": 7,
   "metadata": {},
   "outputs": [
    {
     "data": {
      "text/plain": [
       "'Probablity of forgery 100.0%'"
      ]
     },
     "execution_count": 7,
     "metadata": {},
     "output_type": "execute_result"
    }
   ],
   "source": [
    "isForgery(49, '/notebooks/capstone/dataset/dataset2/sign_data/test/049_forg/01_0114049.PNG')  #forged"
   ]
  },
  {
   "cell_type": "code",
   "execution_count": null,
   "metadata": {},
   "outputs": [],
   "source": []
  },
  {
   "cell_type": "code",
   "execution_count": null,
   "metadata": {},
   "outputs": [],
   "source": []
  },
  {
   "cell_type": "code",
   "execution_count": null,
   "metadata": {},
   "outputs": [],
   "source": []
  },
  {
   "cell_type": "code",
   "execution_count": null,
   "metadata": {},
   "outputs": [],
   "source": []
  },
  {
   "cell_type": "code",
   "execution_count": 8,
   "metadata": {},
   "outputs": [],
   "source": [
    "# def visualize(images_dataset):\n",
    "    \n",
    "#     def showImages(ax, image):\n",
    "#         for i in range(3):\n",
    "#             ax[i].imshow(image[i])\n",
    "#             ax[i].get_xaxis().set_visible(False)\n",
    "#             ax[i].get_yaxis().set_visible(False)\n",
    "#     rows = len(images_dataset)\n",
    "#     images = list(images_dataset.as_numpy_iterator())\n",
    "#     fig, axs = plt.subplots(rows,3, sharex=True, sharey=True, figsize=(30,30))\n",
    "#     for x in range(rows):\n",
    "#          anchor, positive, negative = images[x][0],images[x][1],images[x][2]\n",
    "#          showImages(axs[x], (anchor, positive, negative))"
   ]
  },
  {
   "cell_type": "code",
   "execution_count": 9,
   "metadata": {},
   "outputs": [],
   "source": [
    "# temp_dataset = getPersonEvaluationData(51, '/notebooks/capstone/dataset/dataset2/sign_data/test/051/06_051.png')\n",
    "# visualize(temp_dataset)"
   ]
  }
 ],
 "metadata": {
  "kernelspec": {
   "display_name": "Python 3",
   "language": "python",
   "name": "python3"
  },
  "language_info": {
   "codemirror_mode": {
    "name": "ipython",
    "version": 3
   },
   "file_extension": ".py",
   "mimetype": "text/x-python",
   "name": "python",
   "nbconvert_exporter": "python",
   "pygments_lexer": "ipython3",
   "version": "3.6.9"
  }
 },
 "nbformat": 4,
 "nbformat_minor": 2
}
